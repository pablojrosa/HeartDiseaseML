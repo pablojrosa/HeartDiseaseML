{
 "cells": [
  {
   "cell_type": "code",
   "execution_count": 1,
   "id": "122013ea",
   "metadata": {},
   "outputs": [],
   "source": [
    "import pandas as pd\n",
    "from sklearn.model_selection import train_test_split"
   ]
  },
  {
   "cell_type": "code",
   "execution_count": 3,
   "id": "2af8aabe",
   "metadata": {},
   "outputs": [],
   "source": [
    "PATH_TO_DATA = '../data/raw_data/HeartDisease.csv'\n",
    "PATH_TO_DATA_TRAIN = '../data/raw_data/HeartDisease_train.csv'\n",
    "PATH_TO_DATA_TEST = '../data/raw_data/HeartDisease_test.csv'\n",
    "SEED = 43\n",
    "df_heart_disease = pd.read_csv(PATH_TO_DATA)"
   ]
  },
  {
   "cell_type": "code",
   "execution_count": 6,
   "id": "d70d488e",
   "metadata": {},
   "outputs": [],
   "source": [
    "X = df_heart_disease.drop(['target'], axis=1)\n",
    "Y = df_heart_disease['target']"
   ]
  },
  {
   "cell_type": "code",
   "execution_count": 24,
   "id": "e4c62925",
   "metadata": {},
   "outputs": [],
   "source": [
    "x_train, x_test, y_train, y_test = train_test_split(X,\n",
    "                                                    Y,\n",
    "                                                    test_size=0.33,\n",
    "                                                    random_state=SEED,\n",
    "                                                    stratify=Y)"
   ]
  },
  {
   "cell_type": "code",
   "execution_count": 25,
   "id": "f35428a1",
   "metadata": {},
   "outputs": [],
   "source": [
    "x_train['target'] = y_train\n",
    "x_test['target'] = y_test"
   ]
  },
  {
   "cell_type": "code",
   "execution_count": 28,
   "id": "b856d627",
   "metadata": {},
   "outputs": [],
   "source": [
    "x_train.reset_index(drop=True).to_csv(PATH_TO_DATA_TRAIN, index=False)\n",
    "x_test.reset_index(drop=True).to_csv(PATH_TO_DATA_TEST, index=False)"
   ]
  }
 ],
 "metadata": {
  "kernelspec": {
   "display_name": "Python 3 (ipykernel)",
   "language": "python",
   "name": "python3"
  },
  "language_info": {
   "codemirror_mode": {
    "name": "ipython",
    "version": 3
   },
   "file_extension": ".py",
   "mimetype": "text/x-python",
   "name": "python",
   "nbconvert_exporter": "python",
   "pygments_lexer": "ipython3",
   "version": "3.11.2"
  }
 },
 "nbformat": 4,
 "nbformat_minor": 5
}
